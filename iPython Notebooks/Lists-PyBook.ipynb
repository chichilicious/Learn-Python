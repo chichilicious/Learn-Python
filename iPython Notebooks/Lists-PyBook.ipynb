{
 "cells": [
  {
   "cell_type": "markdown",
   "metadata": {},
   "source": [
    "# Lists\n",
    "Values in a list can be **any type**.    \n",
    "The values in a list are called Elements or Items.    \n",
    "List is enclosed by square brackets --> `'[ ]'`    \n",
    "List values can be assigned to variables    \n",
    "(Strings values are characters)"
   ]
  },
  {
   "cell_type": "code",
   "execution_count": 66,
   "metadata": {},
   "outputs": [],
   "source": [
    "#Example for Types of Lists:\n",
    "Numbers = [10,20,30,40] #List with integers\n",
    "Languages = ['Python','Javascript','C','Octave'] #List with string characters\n",
    "Nested_list = [10,20,'Python',['Javascript','C'],'2.0'] #List with a nested list, integer, string and float\n",
    "empty = [] #Empty list"
   ]
  },
  {
   "cell_type": "code",
   "execution_count": 67,
   "metadata": {},
   "outputs": [
    {
     "name": "stdout",
     "output_type": "stream",
     "text": [
      "[10, 20, 30, 40]\n",
      "[]\n"
     ]
    }
   ],
   "source": [
    "##Try it yourself, check the output of all the above variables\n",
    "print(Numbers)\n",
    "print(empty)\n",
    "\n",
    "\n",
    "#Tip: Try printing (Numbers,Languages,Nested_list,empty)"
   ]
  },
  {
   "cell_type": "markdown",
   "metadata": {},
   "source": [
    "### 1) List is mutable\n",
    "By mutable it means that unlike the string operator the elements of a list can be altered, change its order or reassign an item to a list.\n",
    "To access the elements of a list we use the bracket operator which starts with the index **'0'**. \n",
    "We use square brackets to find each element.\n",
    "In a list, each index _\"maps to\"_ an element present in the list.\n",
    "If a list index is a negetive value, the list prints from backwards. "
   ]
  },
  {
   "cell_type": "code",
   "execution_count": 19,
   "metadata": {},
   "outputs": [
    {
     "name": "stdout",
     "output_type": "stream",
     "text": [
      "20\n",
      "Octave\n"
     ]
    }
   ],
   "source": [
    "print(Numbers[0])\n",
    "print(Languages[3])\n",
    "\n",
    "#Try this with different indecies for all the examples above.\n",
    "#Nested_List[3] must be equal to ['Javascript','C']\n",
    "\n",
    "\n",
    "#Tip: Try Numbers[-3]"
   ]
  },
  {
   "cell_type": "code",
   "execution_count": 6,
   "metadata": {},
   "outputs": [
    {
     "data": {
      "text/plain": [
       "[10, 20, 'Python', 'Hey there', '2.0']"
      ]
     },
     "execution_count": 6,
     "metadata": {},
     "output_type": "execute_result"
    }
   ],
   "source": [
    "#Reassign an item in a list\n",
    "Nested_list[3] = 'Hey there' #'Hey there' is assigned to the 3rd index of the list.\n",
    "Nested_list\n",
    "\n",
    "#Tip: Try len(Nested_list)"
   ]
  },
  {
   "cell_type": "code",
   "execution_count": 7,
   "metadata": {},
   "outputs": [
    {
     "data": {
      "text/plain": [
       "True"
      ]
     },
     "execution_count": 7,
     "metadata": {},
     "output_type": "execute_result"
    }
   ],
   "source": [
    "#Try the 'in' operator\n",
    "'Python' in Languages and '2.0' in Nested_list"
   ]
  },
  {
   "cell_type": "markdown",
   "metadata": {},
   "source": [
    "### 2)Traversing a list\n",
    "Most common way to traverse a list is with a 'for loop'."
   ]
  },
  {
   "cell_type": "code",
   "execution_count": 8,
   "metadata": {},
   "outputs": [
    {
     "name": "stdout",
     "output_type": "stream",
     "text": [
      "10\n",
      "20\n",
      "30\n",
      "40\n"
     ]
    }
   ],
   "source": [
    "for each_number in Numbers:     #Note: each_number here is each element in the list Numbers\n",
    "    print(each_number)"
   ]
  },
  {
   "cell_type": "code",
   "execution_count": 9,
   "metadata": {},
   "outputs": [
    {
     "data": {
      "text/plain": [
       "[20, 40, 60, 80]"
      ]
     },
     "execution_count": 9,
     "metadata": {},
     "output_type": "execute_result"
    }
   ],
   "source": [
    "for i in range(len(Numbers)):   #Note: i here is an INTEGER with range = length of List -Numbers\n",
    "    Numbers[i] = Numbers[i]*2   #range varies from ) to n-1\n",
    "    \n",
    "Numbers"
   ]
  },
  {
   "cell_type": "markdown",
   "metadata": {},
   "source": [
    "### 3)List operations\n",
    "'+' Operator concatenates a list.\n",
    "'*' Operator multiplies the elements of a list."
   ]
  },
  {
   "cell_type": "code",
   "execution_count": 16,
   "metadata": {
    "scrolled": true
   },
   "outputs": [
    {
     "name": "stdout",
     "output_type": "stream",
     "text": [
      "['Python', 'Javascript', 'C', 'Octave', 10, 20, 'Python', 'Hey there', '2.0']\n",
      "['Python', 'Javascript', 'C', 'Octave', 'Python', 'Javascript', 'C', 'Octave', 'Python', 'Javascript', 'C', 'Octave']\n"
     ]
    }
   ],
   "source": [
    "new_list = Languages + Nested_list\n",
    "new_list1 = Languages*3\n",
    "print(new_list)\n",
    "print(new_list1)"
   ]
  },
  {
   "cell_type": "markdown",
   "metadata": {},
   "source": [
    "### 4)List Slices\n",
    "The first index is '0'\n",
    "The last index in a list slice is not considered\n",
    "\n",
    "Note:Since lists are mutable its adviced to make a copy of it"
   ]
  },
  {
   "cell_type": "code",
   "execution_count": 25,
   "metadata": {},
   "outputs": [
    {
     "name": "stdout",
     "output_type": "stream",
     "text": [
      "['a', 'b', 'c', 'd', 'e', 'f', '3', '0']\n",
      "['a', 'b', 'c']\n",
      "['b', 'c', 'd', 'e', 'f', '3', '0']\n",
      "['c']\n"
     ]
    }
   ],
   "source": [
    "alphabets = ['a','b','c','d','e','f','3','0']\n",
    "print(alphabets[:]) #if you omit both the indicies it prints the entire list\n",
    "print(alphabets[:3]) #if you omit the first index it prints from the starting of the list\n",
    "print(alphabets[1:]) #if you omit the last index it prints till the end of the list\n",
    "print(alphabets[2:3])"
   ]
  },
  {
   "cell_type": "code",
   "execution_count": 26,
   "metadata": {},
   "outputs": [
    {
     "name": "stdout",
     "output_type": "stream",
     "text": [
      "['P', 'y', 't', 'h', 'o', 'n', '3', '0']\n"
     ]
    }
   ],
   "source": [
    "# A slice operator on the left side can be used to update the list. This updates the original list.\n",
    "\n",
    "alphabets[:6] = ['P','y','t','h','o','n']\n",
    "print(alphabets)"
   ]
  },
  {
   "cell_type": "markdown",
   "metadata": {},
   "source": [
    "### 5)List Methods\n",
    "**We cant assign the list methods to a variable.**\n",
    "\n",
    "Syntax: name_list.method()\n",
    "\n",
    "Methods: append,extend,sort,index,count,reverse,insert.\n",
    "\n",
    "Methods to Delete : remove,pop,del"
   ]
  },
  {
   "cell_type": "code",
   "execution_count": 46,
   "metadata": {},
   "outputs": [
    {
     "name": "stdout",
     "output_type": "stream",
     "text": [
      "[1, 2, 3, 4, 5, 6, 7]\n",
      "['a', 'b', 'c', 'd', 1, 2, 3, 4, 5, 6, 7]\n",
      "[1, 5, 6, 8, 9]\n",
      "2\n",
      "3\n",
      "[4, 3, 5, 5, 7, 5, 1, 1]\n",
      "[3, 4, 3, 5, 5, 7, 5, 1, 1]\n"
     ]
    }
   ],
   "source": [
    "t=[1,2,3,4,5,6]\n",
    "t.append(7) #Adds a new element\n",
    "print(t)\n",
    "\n",
    "t1 =['a','b','c','d']\n",
    "t1.extend(t) #extends the list\n",
    "print(t1)\n",
    "\n",
    "t2 = [8,9,1,5,6]\n",
    "t2.sort() #Sorts the list \n",
    "print(t2)\n",
    "\n",
    "print(t.index(3)) #gets the index of that item. \n",
    "\n",
    "t3 = [1,1,5,7,5,5,3,4]\n",
    "print(t3.count(5)) #counts the nummber of occurances of an element\n",
    "\n",
    "t3.reverse()\n",
    "print(t3) #Reverses the entire list\n",
    "\n",
    "t3.insert(0,3) #Inserts an element at a particular index -- (index,element)\n",
    "print(t3)"
   ]
  },
  {
   "cell_type": "code",
   "execution_count": 40,
   "metadata": {},
   "outputs": [
    {
     "name": "stdout",
     "output_type": "stream",
     "text": [
      "0\n",
      "1\n",
      "2\n",
      "3\n",
      "4\n",
      "5\n",
      "6\n"
     ]
    }
   ],
   "source": [
    "#Try\n",
    "for each in t:\n",
    "    print(t.index(each))\n",
    "    "
   ]
  },
  {
   "cell_type": "code",
   "execution_count": 65,
   "metadata": {},
   "outputs": [
    {
     "name": "stdout",
     "output_type": "stream",
     "text": [
      "1 3 7 [2, 4, 5, 6]\n",
      "[2, 3, 4, 5, 6, 7, 8, 9, 10]\n",
      "[2, 4, 5, 6, 7, 8, 9, 10]\n",
      "[2, 4, 5, 6, 7]\n",
      "[1, 2, 3, 4]\n"
     ]
    }
   ],
   "source": [
    "#Methods to delete/remove an element\n",
    "#pop - if you know the index\n",
    "t4 = [1,2,3,4,5,6,7]\n",
    "x = t4.pop(0) #pop(index), removes that element\n",
    "y = t4.pop(1)\n",
    "z = t4.pop()  #pops the last element\n",
    "print(x,y,z,t4)\n",
    "\n",
    "#if you do not need the removed value, use del list(index)\n",
    "t5 = [1,2,3,4,5,6,7,8,9,10]\n",
    "del t5[0]\n",
    "print(t5)\n",
    "del t5[1]\n",
    "print(t5)\n",
    "del t5[5:] #removes all the elements included in the slice\n",
    "print(t5)\n",
    "\n",
    "#remove - if you know the element\n",
    "t6 = [1,2,3,4,5]\n",
    "t6.remove(5)\n",
    "print(t6)"
   ]
  },
  {
   "cell_type": "markdown",
   "metadata": {},
   "source": [
    "### Objects and values:\n",
    "in a list, when\n",
    "a=[1,2,3]\n",
    "b=[1,2,3]\n",
    "Python creates two seperate objects a and b, in which they both have the same value.\n",
    "Therefore, 'a is b' will be False. a and b are equivalent but not equal.\n"
   ]
  },
  {
   "cell_type": "markdown",
   "metadata": {},
   "source": [
    "### Aliasing\n",
    "when a =[1,2,3]\n",
    "     b = a\n",
    "Here, both a and b refer to the same object.\n",
    "Association of a variable with an object is called  _reference_.\n",
    "That is, there are two refrences b and a to the object[1,2,3].\n",
    "\n",
    "If an object has more than one reference, has more than one name, so the object is aliased.\n",
    "Hence changes made using any one reference will affect the results for both because they are the same objects.\n",
    "\n"
   ]
  }
 ],
 "metadata": {
  "kernelspec": {
   "display_name": "Python 3",
   "language": "python",
   "name": "python3"
  },
  "language_info": {
   "codemirror_mode": {
    "name": "ipython",
    "version": 2
   },
   "file_extension": ".py",
   "mimetype": "text/x-python",
   "name": "python",
   "nbconvert_exporter": "python",
   "pygments_lexer": "ipython2",
   "version": "2.7.15rc1"
  }
 },
 "nbformat": 4,
 "nbformat_minor": 2
}
