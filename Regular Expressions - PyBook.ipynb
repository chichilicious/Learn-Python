{
 "cells": [
  {
   "cell_type": "markdown",
   "metadata": {},
   "source": [
    "<p> Regular expressions are almost their own little programming language for searching\n",
    "and parsing strings. <br>\n",
    "    This is a library which can be imported using the command 'import re' </p>"
   ]
  },
  {
   "cell_type": "code",
   "execution_count": 1,
   "metadata": {},
   "outputs": [],
   "source": [
    "import re"
   ]
  },
  {
   "cell_type": "code",
   "execution_count": 22,
   "metadata": {},
   "outputs": [
    {
     "name": "stdout",
     "output_type": "stream",
     "text": [
      "But soft! What light through yonder window breaks?\n",
      "Who is already sick and pale with grief,\n",
      "And none but fools do wear it. Cast it off!\n",
      "Oh, that she knew she were!\n",
      "Her eye discourses. I will answer it.—\n",
      "Two of the fairest stars in all the heaven,\n",
      "To twinkle in their spheres till they return.\n",
      "What if her eyes were there, they in her head?\n",
      "The brightness of her cheek would shame those stars\n",
      "That birds would sing and think it were not night.\n",
      "See how she leans her cheek upon her hand.\n",
      "Oh, that I were a glove upon that hand\n"
     ]
    }
   ],
   "source": [
    "#Search()function is the simplest.\n",
    "\n",
    "file = open('romeo.txt')\n",
    "for eachLine in file:\n",
    "    eachLine = eachLine.rstrip()\n",
    "    if re.search('w...',eachLine):\n",
    "        print(eachLine)\n",
    "    \n",
    "#Try---if re.search('^it',eachLine)\n",
    "#By using ^ before the word we limit the function to search for words that start with that word"
   ]
  },
  {
   "cell_type": "code",
   "execution_count": null,
   "metadata": {},
   "outputs": [],
   "source": []
  },
  {
   "cell_type": "code",
   "execution_count": null,
   "metadata": {},
   "outputs": [],
   "source": []
  }
 ],
 "metadata": {
  "kernelspec": {
   "display_name": "Python 3",
   "language": "python",
   "name": "python3"
  },
  "language_info": {
   "codemirror_mode": {
    "name": "ipython",
    "version": 2
   },
   "file_extension": ".py",
   "mimetype": "text/x-python",
   "name": "python",
   "nbconvert_exporter": "python",
   "pygments_lexer": "ipython2",
   "version": "2.7.15rc1"
  }
 },
 "nbformat": 4,
 "nbformat_minor": 2
}
